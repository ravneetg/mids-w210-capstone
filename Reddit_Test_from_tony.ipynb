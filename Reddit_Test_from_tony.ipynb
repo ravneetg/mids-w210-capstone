{
 "cells": [
  {
   "cell_type": "code",
   "execution_count": 37,
   "metadata": {
    "collapsed": false
   },
   "outputs": [
    {
     "name": "stdout",
     "output_type": "stream",
     "text": [
      "Requirement already satisfied: praw in /home/tony/miniconda3/envs/py36_w210/lib/python3.6/site-packages (5.4.0)\n",
      "Requirement already satisfied: prawcore<0.15,>=0.14.0 in /home/tony/miniconda3/envs/py36_w210/lib/python3.6/site-packages (from praw) (0.14.0)\n",
      "Requirement already satisfied: update-checker>=0.16 in /home/tony/miniconda3/envs/py36_w210/lib/python3.6/site-packages (from praw) (0.16)\n",
      "Requirement already satisfied: requests<3.0,>=2.6.0 in /home/tony/miniconda3/envs/py36_w210/lib/python3.6/site-packages (from prawcore<0.15,>=0.14.0->praw) (2.18.4)\n",
      "Requirement already satisfied: chardet<3.1.0,>=3.0.2 in /home/tony/miniconda3/envs/py36_w210/lib/python3.6/site-packages (from requests<3.0,>=2.6.0->prawcore<0.15,>=0.14.0->praw) (3.0.4)\n",
      "Requirement already satisfied: idna<2.7,>=2.5 in /home/tony/miniconda3/envs/py36_w210/lib/python3.6/site-packages (from requests<3.0,>=2.6.0->prawcore<0.15,>=0.14.0->praw) (2.6)\n",
      "Requirement already satisfied: urllib3<1.23,>=1.21.1 in /home/tony/miniconda3/envs/py36_w210/lib/python3.6/site-packages (from requests<3.0,>=2.6.0->prawcore<0.15,>=0.14.0->praw) (1.22)\n",
      "Requirement already satisfied: certifi>=2017.4.17 in /home/tony/miniconda3/envs/py36_w210/lib/python3.6/site-packages (from requests<3.0,>=2.6.0->prawcore<0.15,>=0.14.0->praw) (2018.4.16)\n",
      "\u001b[31mmkl-random 1.0.1 requires cython, which is not installed.\u001b[0m\n",
      "\u001b[31mmkl-fft 1.0.0 requires cython, which is not installed.\u001b[0m\n",
      "\u001b[31mdistributed 1.21.8 requires msgpack, which is not installed.\u001b[0m\n"
     ]
    }
   ],
   "source": [
    "!pip install praw"
   ]
  },
  {
   "cell_type": "code",
   "execution_count": 38,
   "metadata": {
    "collapsed": true
   },
   "outputs": [],
   "source": [
    "import os\n",
    "from configparser import ConfigParser\n",
    "from urllib.parse import urlparse\n",
    "import praw"
   ]
  },
  {
   "cell_type": "markdown",
   "metadata": {},
   "source": [
    "1. Create a reddit account and verify the email.\n",
    "\n",
    "2. Log in to reddit.com, and then go to [Preferences -> Apps](https://www.reddit.com/prefs/apps)\n",
    "\n",
    "3. Follow the steps here: https://github.com/reddit-archive/reddit/wiki/OAuth2 to create a new app associated with your account. For read-only/scraping, you don't need OAuth2, just the client ID and client secret.\n",
    "\n",
    "4. Come up with a unique `UserAgent` string. See [here](https://github.com/reddit-archive/reddit/wiki/API#rules) for example format. This will be passed as the `user_agent` argument as shown in the code below.\n",
    "\n",
    "Other useful links:\n",
    " * https://github.com/reddit-archive/reddit/wiki/API\n",
    " * https://praw.readthedocs.io/en/latest/"
   ]
  },
  {
   "cell_type": "markdown",
   "metadata": {},
   "source": [
    "The `client_id` and `client_secret` needed for using the Reddit API will be kept separate from this code.\n",
    "\n",
    "Put a file in your home directory named `reddit_api.ini` with the following example structure:\n",
    "\n",
    "```\n",
    "[client]\n",
    "id = abcde1234567890\n",
    "secret = abCdefghijKlmnopqRstuVwxyz0\n",
    "```"
   ]
  },
  {
   "cell_type": "code",
   "execution_count": 39,
   "metadata": {
    "collapsed": true
   },
   "outputs": [],
   "source": [
    "config = ConfigParser()  \n",
    "config.read(os.path.join(os.path.expanduser('~'), 'reddit_api.ini'))\n",
    "client_id = config.get('client', 'id')  \n",
    "client_secret = config.get('client', 'secret')  "
   ]
  },
  {
   "cell_type": "code",
   "execution_count": 40,
   "metadata": {
    "collapsed": true
   },
   "outputs": [],
   "source": [
    "reddit = praw.Reddit(client_id=client_id, client_secret=client_secret, user_agent='linux:edu.berkeley.ischool.whiskey_mids:v0.1.0 (by /u/TonyUCBerkeleyMIDS)')"
   ]
  },
  {
   "cell_type": "code",
   "execution_count": 42,
   "metadata": {
    "collapsed": false
   },
   "outputs": [
    {
     "name": "stdout",
     "output_type": "stream",
     "text": [
      "True\n"
     ]
    }
   ],
   "source": [
    "print(reddit.read_only)"
   ]
  },
  {
   "cell_type": "code",
   "execution_count": 43,
   "metadata": {
    "collapsed": false
   },
   "outputs": [
    {
     "name": "stdout",
     "output_type": "stream",
     "text": [
      "Community Review Classics #3: Macallan 12 (any bottle, will segregate results)\n",
      "Review #567: Caol Ila 10 (2002 Gordon & Macphail)\n",
      "Review #568: Caol Ila 22 (1991 Cadenhead's)\n",
      "Review #566: Caol Ila 8 (2008 The Ultimate)\n",
      "Reveiw #187: North British 28 1988 Old Particular K&L\n",
      "Review #198: St Magdalene 19YO 1979 Rare Malt\n",
      "Review #206 Ben Nevis 21 year 1996 Old Malt Cask\n",
      "Review #139: Ledaig Limited Release 18yr Small Batch Sherry\n",
      "Scotch Whisky Review #66 (Network #88): Longrow 9 Year Single Cask Sauternes\n",
      "Scotch Whisky Review #67 (Network #89): Deanston 20 year Portwood Finish\n"
     ]
    }
   ],
   "source": [
    "for submission in reddit.subreddit('scotch').hot(limit=10):\n",
    "    print(submission.title)"
   ]
  },
  {
   "cell_type": "code",
   "execution_count": 58,
   "metadata": {
    "collapsed": false
   },
   "outputs": [
    {
     "data": {
      "text/plain": [
       "['', 'user', 'shane_il', '']"
      ]
     },
     "execution_count": 58,
     "metadata": {},
     "output_type": "execute_result"
    }
   ],
   "source": [
    "badurl = 'https://www.reddit.com/user/shane_il/'\n",
    "parsed_badurl = urlparse(badurl)\n",
    "#parsed_badurl\n",
    "parsed_badurl.path.split('/')"
   ]
  },
  {
   "cell_type": "code",
   "execution_count": 44,
   "metadata": {
    "collapsed": false
   },
   "outputs": [
    {
     "data": {
      "text/plain": [
       "ParseResult(scheme='http', netloc='www.reddit.com', path='/r/bourbon/comments/1v2xl0/review_4_george_t_stagg_2011_release/', params='', query='', fragment='')"
      ]
     },
     "execution_count": 44,
     "metadata": {},
     "output_type": "execute_result"
    }
   ],
   "source": [
    "reviewurl = urlparse('http://www.reddit.com/r/bourbon/comments/1v2xl0/review_4_george_t_stagg_2011_release/')\n",
    "reviewurl"
   ]
  },
  {
   "cell_type": "code",
   "execution_count": 54,
   "metadata": {
    "collapsed": false
   },
   "outputs": [
    {
     "data": {
      "text/plain": [
       "ParseResult(scheme='', netloc='', path='www.reddit.com/r/bourbon/comments/1v2xl0', params='', query='', fragment='')"
      ]
     },
     "execution_count": 54,
     "metadata": {},
     "output_type": "execute_result"
    }
   ],
   "source": [
    "urlparse('www.reddit.com/r/bourbon/comments/1v2xl0')"
   ]
  },
  {
   "cell_type": "code",
   "execution_count": 45,
   "metadata": {
    "collapsed": false
   },
   "outputs": [
    {
     "data": {
      "text/plain": [
       "['',\n",
       " 'r',\n",
       " 'bourbon',\n",
       " 'comments',\n",
       " '1v2xl0',\n",
       " 'review_4_george_t_stagg_2011_release',\n",
       " '']"
      ]
     },
     "execution_count": 45,
     "metadata": {},
     "output_type": "execute_result"
    }
   ],
   "source": [
    "reviewurl.path.split('/')"
   ]
  },
  {
   "cell_type": "code",
   "execution_count": 59,
   "metadata": {
    "collapsed": false
   },
   "outputs": [
    {
     "data": {
      "text/plain": [
       "'r'"
      ]
     },
     "execution_count": 59,
     "metadata": {},
     "output_type": "execute_result"
    }
   ],
   "source": [
    "reviewurl.path.split('/')[1]"
   ]
  },
  {
   "cell_type": "code",
   "execution_count": 46,
   "metadata": {
    "collapsed": false
   },
   "outputs": [
    {
     "data": {
      "text/plain": [
       "'bourbon'"
      ]
     },
     "execution_count": 46,
     "metadata": {},
     "output_type": "execute_result"
    }
   ],
   "source": [
    "subreddit_name = reviewurl.path.split('/')[2]\n",
    "subreddit_name"
   ]
  },
  {
   "cell_type": "code",
   "execution_count": 47,
   "metadata": {
    "collapsed": false
   },
   "outputs": [
    {
     "name": "stdout",
     "output_type": "stream",
     "text": [
      "bourbon\n",
      "Bourbon - America's Spirit\n",
      "###### [r/Whisky](/r/Whisky)[r/WorldWhisky](/r/WorldWhisky)[r/Scotch](/r/scotch)[/r/Whiskyporn](/r/whiskyporn)[Whisky Network Guide](https://docs.google.com/document/d/186_ANEKW8yGvvLAcjKve6tvqqBIcMGUg9-mKU5KACZk/edit)\n",
      "\n",
      "### \n",
      "\n",
      "* **[The /r/Bourbon Rules & Guidelines](https://docs.google.com/document/d/14MJyu97Sot78qJ0Rme5x4gW2rizTMBMHWThtmG8X7ok)**\n",
      "\n",
      "\n",
      "\n",
      "# **Welcome to rBourbon**\n",
      "\n",
      "All Discussions and Reviews of **Bourbon, Rye**, and/or any **American Whiskey** are welcome and encouraged(yes, even Jack).  As well as any news articles or bourbon related internet things.  \n",
      "\n",
      "\n",
      "* **[OFFICIAL NETWORK  IRC CHATROOM](https://kiwiirc.com/client/irc.snoonet.org/#RedditWhiskyNetwork)**\n",
      "\n",
      "* **[NETWORK DISCORD SERVER](https://discord.gg/8k8Hnpj)**\n",
      "\n",
      "\n",
      "\n",
      "\n",
      "# **Helpful Stuff**\n",
      "\n",
      "* **[Bourbon FAQ](https://docs.google.com/document/d/17CCQ-r4mpH9krhrDiXVSayYkqWAjYGOCLh3NShV1yO8/edit#heading=h.7yx2snahgko8)**\n",
      "\n",
      "* **[Beginner's and Intermediate Guide to Bourbon](https://docs.google.com/document/d/10zdeEAO3GVayZtt-XsTcoGIi2uP8xrE8BurIxeSNfBk/edit)**\n",
      "\n",
      "* [**Bourbon Gift Guide**](https://www.reddit.com/r/bourbon/comments/4tcswq/new_improved_rbourbon_gift_guide/)\n",
      "\n",
      "* [**Rye Whiskey Guide**](https://docs.google.com/document/d/1mrVZabQaulkxqL2qLif4HlWpMXF0bQ6hAmr8aQ_kRYA/edit#heading=h.lqvwwdjxkepg)\n",
      "\n",
      "* **[Kentucky Bourbon Trail Guide](https://docs.google.com/document/d/1hKcFqNtKBrqzFPKJVye-wz0mbLChj9haguY4l_iRgtI/edit?usp=sharing)**\n",
      "\n",
      "* **[Whiskey Acronyms](https://docs.google.com/document/d/1smJfhOgp-ObOZ0Va1a3QeWDqVxmFdqO-RnKZe5ap83c/edit?usp=sharing)**\n",
      "\n",
      "# **Review Stuff**\n",
      "\n",
      "* **[Whisky Review Archive](https://docs.google.com/spreadsheets/d/1X1HTxkI6SqsdpNSkSSivMzpxNT-oeTbjFFDdEkXD30o/edit#gid=695409533&fvid=484110565)**\n",
      "\n",
      "\n",
      "* **[Review Archive Mobile Search](http://whiskynetworkreviews.com/)**\n",
      "\n",
      "\n",
      "* **[Submission Form](https://docs.google.com/forms/d/13O0_erDx22pP2Gdkc6hYkOkgG3N5l718-jtrIok_9xE/viewform)**\n",
      "\n",
      "\n",
      "* **[Community Reviews](https://docs.google.com/document/d/1PNUikuLjMEarQpMklvfb0W3SVz2dfFMrkDKbKTECiK8/edit)**\n",
      "\n",
      "\n",
      "\n",
      "* **[Texacer's Guide to Tasting/Nosing/Reviewing](https://docs.google.com/document/d/1vawB2eCdPPfZxg0Qdw12CgrB-qCtxKX5_2due01tSqw/edit?hl=en_US)**\n",
      "\n",
      "\n",
      "# **AMAs**\n",
      "\n",
      "* **[Buffalo Trace](https://docs.google.com/document/d/1E-aC3EOkKNoMl56ZgC9wt_RgN8bxY3xm0z9aS3nQxq8/edit#)**\n",
      "\n",
      "* **[Lost Spirits](https://docs.google.com/document/d/1ODQGhT_82iv4Xu33BJ-wnO1OkM1O47d2hHxVf5UI8Eg/edit?usp=sharing)**\n",
      "\n",
      "* **[Four Roses](https://docs.google.com/document/d/1uXjdoVONi8NGC-cy2fc3uzyY9wC63AhrZEmGIJu_Vcg/edit)**\n",
      "\n",
      "* **[Wild Turkey](https://docs.google.com/document/d/1Q0n8gQJmv0MVzVMGgIwDDkHwT_kBIQucL9L5Dhrtia4/edit)**\n",
      "\n",
      "* **[Balcones](http://www.reddit.com/r/bourbon/comments/27h95f/i_am_winston_edwards_balcones_brand_ambassador_ama/)**\n",
      "\n",
      "* **[Smooth Ambler](https://www.reddit.com/r/bourbon/comments/2uzf0b/john_foster_ama_smooth_ambler/)**\n",
      "\n",
      "* **[High West](https://www.reddit.com/r/bourbon/comments/4560c1/i_am_david_perkins_founder_of_high_west/)**\n",
      "\n",
      "* **[Denning's Point](https://www.reddit.com/r/bourbon/comments/5qhgf7/dennings_point_distillery_ama_with_chief_distiller/)**\n",
      "\n",
      "* **[Chip Tate](https://docs.google.com/document/d/1eYFl8nKvaAwHP_ZVP_dgTyKe9iN0DnddN220cjMxDUU/edit)**\n",
      "\n",
      "* **[Old Rip Van Winkle](https://docs.google.com/document/d/1UThREucv_Z1EjyRNAVJ6hCjd1TNaERphwjWy2wUEmQ0/edit)**\n",
      "\n",
      "# **Stuff**\n",
      "\n",
      "* **[Guide to Wild Turkey Date Codes](https://www.reddit.com/r/bourbon/comments/5qe4zr/guide_to_wild_turkey_date_codes/)**\n",
      "\n",
      "* **[Wild Turkey Timeline](https://www.reddit.com/r/bourbon/comments/63s5fw/wild_turkey_timeline/)**\n",
      "\n",
      "* **[Whiskey Database - Who makes what](https://docs.google.com/spreadsheet/ccc?key=0AhtxpL3LiC-TdE1FTTRUV3lZQzdaUDNxSEp5XzlIQlE#gid=4)**\n",
      "\n",
      "* **[WhiskeyID - Dusty Dating Database](http://whiskeyid.com/)**\n",
      "\n",
      "* **[Buffalo Trace Single Oak Guide](https://docs.google.com/document/d/18h0q88npKsZY66pjnCFlKDXfJS4jWy7erO7n3QIqaRI/edit#heading=h.riycsdm8zk60)**\n",
      "\n",
      "* **\n",
      "* *Sipping on something else? Check out:* \n",
      "\n",
      "# **Our Spiritual Kin:**\n",
      "\n",
      "[Firewater](http://www.reddit.com/r/firewater)|[Alcohol](http://www.reddit.com/r/liquor)|[Wine](http://www.reddit.com/r/wine)|**[Pipetobacco](http://www.reddit.com/r/pipetobacco)**\n",
      ":---|:---|:---|:---\n",
      "**[Liquor](http://www.reddit.com/r/liquor)**|**[Cocktails](http://www.reddit.com/r/cocktails)**|**[Tequila](http://www.reddit.com/r/tequila)**|**[Cognac](/r/Cognac)**\n",
      "**[Gin](http://www.reddit.com/r/gin)**|**[Rum](http://www.reddit.com/r/rum)**|**[Cigars](http://www.reddit.com/r/cigars)**|**[Scotch](/r/scotch)**\n"
     ]
    }
   ],
   "source": [
    "subreddit = reddit.subreddit(subreddit_name)\n",
    "\n",
    "print(subreddit.display_name)\n",
    "print(subreddit.title)\n",
    "print(subreddit.description)"
   ]
  },
  {
   "cell_type": "code",
   "execution_count": 48,
   "metadata": {
    "collapsed": false
   },
   "outputs": [
    {
     "data": {
      "text/plain": [
       "'1v2xl0'"
      ]
     },
     "execution_count": 48,
     "metadata": {},
     "output_type": "execute_result"
    }
   ],
   "source": [
    "submission_id = reviewurl.path.split('/')[4]\n",
    "submission_id"
   ]
  },
  {
   "cell_type": "code",
   "execution_count": 49,
   "metadata": {
    "collapsed": false
   },
   "outputs": [
    {
     "data": {
      "text/plain": [
       "Submission(id='1v2xl0')"
      ]
     },
     "execution_count": 49,
     "metadata": {},
     "output_type": "execute_result"
    }
   ],
   "source": [
    "submission = reddit.submission(id=submission_id)\n",
    "submission"
   ]
  },
  {
   "cell_type": "code",
   "execution_count": 50,
   "metadata": {
    "collapsed": false
   },
   "outputs": [
    {
     "name": "stdout",
     "output_type": "stream",
     "text": [
      "**George T. Stagg (2010 release)**\n",
      "\n",
      "143.0 proof. Enjoyed in a rocks glass.\n",
      "\n",
      "I took my son to a toddler birthday party this weekend, fully expecting to hide in a corner while the kids played around. However, my buddy hosting the party took me aside and goes, \"Want to try some of this?\" I looked down and saw a nearly empty bottle of Stagg; my jaw dropped. He told me he used to collect, and that he had a few bottles of this laying around. OF COURSE I wanted to try it.\n",
      "\n",
      "Careful not to empty another man's bottle, I poured myself a few ounces. What happened next was nothing short of magical.\n",
      "\n",
      "**Color &amp;amp; Body:** Medium caramel, much lighter than I expected but dark enough to feel like bourbon.\n",
      "\n",
      "**Nose:** Apple, cinnamon, licorice, nutmeg, leather, sweet tobacco. Reminded me of eating an apple pie in the dog days of summer.\n",
      "\n",
      "**Taste:** Brown sugar, pecans, brown butter, Fuji apples, followed by sweet oak, persimmon, and anise. There was just enough spice to provide a heavy, complex layer to the sweetness up front. In fact, all of these notes seemed to unfold like a symphony in different movements. I've never tasted a bourbon quite as rich as this.\n",
      "\n",
      "**Mouthfeel:** Really buttery, felt like it just danced around on the sides and back of my tongue. I was amazed at how little heat I felt from a 143 proof whiskey.\n",
      "\n",
      "**Finish:** I could not stop thinking about this bourbon, and I realized it was because I could taste it for hours afterwards. The finish is spicy sweet, kind of like pure, unfiltered maple syrup, cinnamon and butter.\n",
      "\n",
      "**Overall:** I don't really know what to say other than it's been more than 24 hours since I finished this glass, and I can't get it out of my mind. It's superlative; easily the best bourbon I've ever tasted. I can't help but feel a little sad that I won't be tasting this again. Pappy is wonderful, but this is the bottle that blew my mind.\n",
      "\n",
      "**99/100** (I just can't bring myself to give a perfect score. There's always something better, right?)\n",
      "\n",
      "[Edit: turns out this was the 2010 release.]\n",
      "==================\n",
      "Your picture shows the 2010 release, not 2011. Either way, both years were great!\n",
      "==================\n",
      "Nice RL glass\n",
      "==================\n"
     ]
    }
   ],
   "source": [
    "for top_level_comment in submission.comments:\n",
    "    print(top_level_comment.body)\n",
    "    print(\"==================\")"
   ]
  },
  {
   "cell_type": "code",
   "execution_count": 51,
   "metadata": {
    "collapsed": false
   },
   "outputs": [
    {
     "name": "stdout",
     "output_type": "stream",
     "text": [
      "**George T. Stagg (2010 release)**\n",
      "\n",
      "143.0 proof. Enjoyed in a rocks glass.\n",
      "\n",
      "I took my son to a toddler birthday party this weekend, fully expecting to hide in a corner while the kids played around. However, my buddy hosting the party took me aside and goes, \"Want to try some of this?\" I looked down and saw a nearly empty bottle of Stagg; my jaw dropped. He told me he used to collect, and that he had a few bottles of this laying around. OF COURSE I wanted to try it.\n",
      "\n",
      "Careful not to empty another man's bottle, I poured myself a few ounces. What happened next was nothing short of magical.\n",
      "\n",
      "**Color &amp;amp; Body:** Medium caramel, much lighter than I expected but dark enough to feel like bourbon.\n",
      "\n",
      "**Nose:** Apple, cinnamon, licorice, nutmeg, leather, sweet tobacco. Reminded me of eating an apple pie in the dog days of summer.\n",
      "\n",
      "**Taste:** Brown sugar, pecans, brown butter, Fuji apples, followed by sweet oak, persimmon, and anise. There was just enough spice to provide a heavy, complex layer to the sweetness up front. In fact, all of these notes seemed to unfold like a symphony in different movements. I've never tasted a bourbon quite as rich as this.\n",
      "\n",
      "**Mouthfeel:** Really buttery, felt like it just danced around on the sides and back of my tongue. I was amazed at how little heat I felt from a 143 proof whiskey.\n",
      "\n",
      "**Finish:** I could not stop thinking about this bourbon, and I realized it was because I could taste it for hours afterwards. The finish is spicy sweet, kind of like pure, unfiltered maple syrup, cinnamon and butter.\n",
      "\n",
      "**Overall:** I don't really know what to say other than it's been more than 24 hours since I finished this glass, and I can't get it out of my mind. It's superlative; easily the best bourbon I've ever tasted. I can't help but feel a little sad that I won't be tasting this again. Pappy is wonderful, but this is the bottle that blew my mind.\n",
      "\n",
      "**99/100** (I just can't bring myself to give a perfect score. There's always something better, right?)\n",
      "\n",
      "[Edit: turns out this was the 2010 release.]\n"
     ]
    }
   ],
   "source": [
    "print(submission.comments[0].body)"
   ]
  },
  {
   "cell_type": "code",
   "execution_count": 52,
   "metadata": {
    "collapsed": true
   },
   "outputs": [],
   "source": [
    "submission = reddit.submission(url='https://www.reddit.com/r/Scotch/comments/3gbet3/glendronach_vertical_cs_12_15_revival_18/')"
   ]
  },
  {
   "cell_type": "code",
   "execution_count": 53,
   "metadata": {
    "collapsed": false
   },
   "outputs": [
    {
     "name": "stdout",
     "output_type": "stream",
     "text": [
      "*****\n",
      "\n",
      "**REVIEW #108: GlenDronach 12 year - 43% abv**\n",
      "\n",
      "*****\n",
      "\n",
      "**Nose:**  A surprisingly dark and heavy nose for a 12yo.  Cooked apples, dark kitchen spices, cinnamon, clove, raisin, brazil nuts, roasted chestnuts, bit of a musty cellar, touch of cooling mint.\n",
      "\n",
      "**Taste:** Oily, crushed red pepper heat, cinnamon, creamy custard / creme brulee, a drop or two of water makes this luxuriously silky and elevates the sweetness.  Cola. Liquid candy.\n",
      "\n",
      "**Finish:** Lingering creme brulee, burnt sugar, toasted nuttiness, touch of oak dryness, nutmeg.\n",
      "\n",
      "**Score: 89/100** (no change)\n",
      "\n",
      "**Buy a full bottle?** Yes\n",
      "\n",
      "**Closing Thoughts:** Amazingly good for a 12yo.  Fantastic value.\n",
      "*****\n",
      "\n",
      "*****\n",
      "\n",
      "**REVIEW #109: GlenDronach 15 year - Revival - 46% abv**\n",
      "\n",
      "*****\n",
      "\n",
      "**Nose:**  Syrupy molasses, thick, dark, sweet, dark chocolate, custard, cooked apples way in the back, cinnamon, clove, nutmeg, musty cellar, herbal / vegetal note, a heavy nose.  Thick, dark, dense and heavy.  Fantastic.  With water, the menthol cooling note increases, smoky burnt popcorn, almost makes me think of pungent peat smoke.  With even more time with a cover on the glass: orange zest.  \n",
      "\n",
      "**Taste:** Buttery, creamy, leather, tinge of salt, burnt toffee, viscous, vanilla, white pepper, raisins.  With water the burnt/smoky effect increases, becomes silky on the tongue, nice and oily and heavy. Cola.\n",
      "\n",
      "**Finish:** Scones, nutmeg, oak, burnt toffee, oolong tea.  That vegetal note again.  Finish is actually stronger with a few drops of water, or maybe it’s just accumulating with each sip. With time, chocolate covered cherry, chocolate candied orange wedge. \n",
      "\n",
      "**Score: 91/100** (increased 2 points)\n",
      "\n",
      "**Buy a full bottle?** Holy hell yes.\n",
      "\n",
      "**Closing Thoughts:** I tried this almost a year ago in one of my first group of samples, so I was glad to give it a retry now that I feel like I have a more discerning palate.  This is some damn fine whisky.\n",
      "*****\n",
      "\n",
      "*****\n",
      "\n",
      "**REVIEW #110: GlenDronach Cask Strength - Batch 4 - 54.7% abv**\n",
      "\n",
      "*****\n",
      "\n",
      "**Nose:** Cocoa powder, cherry liqueur, initially a lighter nose than the 15 and 12. Dry wood dust.  With water: the menthol/cooling note increases, raisins, nuttiness, lemon zest, watermelon rind.\n",
      "\n",
      "**Taste:** Fig newtons, chocolate powder, orange cream / creamsicle, rhubarb?, sweet, burnt sugar, some good heat.  Orange zest.  Currants.  With water: creaminess continues, buttered toffee, the sweet/sour rhubarb note continues.  Cola.\n",
      "\n",
      "**Finish:** Lingering heat, spices, biscuit, cola.\n",
      "\n",
      "**Score: 89/100**  (increased 1 point)\n",
      "\n",
      "**Buy a full bottle?** Yes\n",
      "\n",
      "**Closing Thoughts:** Lots going on in here, and lots of room for water to increase the value per bottle.  The youth is obvious, the alcohol heat is strong, but what’s left after dilution remains complex and multifaceted.  A great option for a NAS whisky.\n",
      "*****\n",
      "\n",
      "*****\n",
      "\n",
      "**REVIEW #111: GlenDronach 18 year - Allardice - 46% abv**\n",
      "\n",
      "*****\n",
      "\n",
      "**Nose:**  Much more mellow than the Cask Strength.  Musty cellar, old leather, dank earth, dark, heavy, walnuts, dark toffee, thicker and darker cherry syrup, that menthol/minty cooling note again, dark spicy oak, black licorice, burnt sugar, creamy vanilla custard.  With water: something floral.  Orange zest.  \n",
      "\n",
      "**Taste:** Thick, viscous, nice glowing heat, salty buttered toffee, burnt sugar, almost smoky, that spent gunpowder note I usually get from Glenfarclas.  With water: cinnamon, nutmeg, clove, black peppery spice.  Cola.\n",
      "\n",
      "**Finish:** Long.  Lingering black pepper heat, nuttiness, cola, orange oil, cocoa powder, drying oak spiciness.\n",
      "\n",
      "**Score: 90/100**\n",
      "\n",
      "**Buy a full bottle?** Yes\n",
      "\n",
      "**Closing Thoughts:** I found this one to be very closed.  Took quite a while to open up, but once it did it changed over and over and over again.  Changes with water, changes with 5 minutes, changes at 10 minutes, changes at 15 minutes.  If you’re patient enough, this one will reward you with a variety of experiences. \n",
      "*****\n",
      "\n",
      "*****\n",
      "\n",
      "**REVIEW #112: GlenDronach 19 year 1995 (cask 4941) Batch 11 - 57% abv**\n",
      "\n",
      "*****\n",
      "\n",
      "**Nose:**  Strong and open right away, much more open than the 18yo.  Fruity, berries, blackberries, cherries, cola, chocolate, leather, musty cellar, brazil nuts, dark dry oak, menthol/cooling note again, black pepper.\n",
      "\n",
      "**Taste:** Dark fruits, plums, raisins, cherries, cola, chocolate, cinnamon, black pepper heat. With water: the creaminess returns, vanilla custard, burnt sugar, salty, spicy oak.  Cherry cough lozenges. Cooling menthol. Figs.  With time, more honey and butter.\n",
      "\n",
      "**Finish:** Plums, lingering cola, cinnamon, cocoa powder, mouth-watering, nutmeg. Chocolate fudge with chopped nuts.\n",
      "\n",
      "**Score: 91/100** \n",
      "\n",
      "**Buy a full bottle?** Yea\n",
      "\n",
      "**Closing Thoughts:** Wow.  This is a big whisky.  I prefer this over the 18yo.  It’s more open from the beginning, accepts tons of water (but all of these do, really), and the flavors and aromas are stronger and heavier.\n",
      "*****\n",
      "\n",
      "*****\n",
      "\n",
      "**REVIEW #113: GlenDronach 21 year - Parliament - 48% abv**\n",
      "\n",
      "*****\n",
      "\n",
      "**Nose:**  Strong, dark, heavy, thick, red twizzlers, old leather, dark oak spiciness, cola, dried orange zest, cocoa powder, figs, molasses, coffee grounds?, grape kool-aid?, autumn leaves, musty cellar\n",
      "\n",
      "**Taste:** Brown sugar, molasses, syrupy, honey, burnt sugar, vanilla custard, creme brulee, raisins, prunes, figs, dry peppery oak, cola.\n",
      "\n",
      "**Finish:** Lingering vanilla, chocolate, black tea, cola, drying oakiness, black pepper heat\n",
      "\n",
      "**Score: 91/100** \n",
      "\n",
      "**Buy a full bottle?** Yes\n",
      "\n",
      "**Closing Thoughts:** Dark, rich, heavy, strong, bold, fantastic stuff.\n",
      "*****\n"
     ]
    }
   ],
   "source": [
    "print(submission.comments[0].body)"
   ]
  },
  {
   "cell_type": "code",
   "execution_count": null,
   "metadata": {
    "collapsed": true
   },
   "outputs": [],
   "source": []
  }
 ],
 "metadata": {
  "anaconda-cloud": {},
  "kernelspec": {
   "display_name": "Python [conda env:py36_w210]",
   "language": "python",
   "name": "conda-env-py36_w210-py"
  },
  "language_info": {
   "codemirror_mode": {
    "name": "ipython",
    "version": 3
   },
   "file_extension": ".py",
   "mimetype": "text/x-python",
   "name": "python",
   "nbconvert_exporter": "python",
   "pygments_lexer": "ipython3",
   "version": "3.6.5"
  }
 },
 "nbformat": 4,
 "nbformat_minor": 2
}
